{
 "cells": [
  {
   "cell_type": "code",
   "execution_count": null,
   "metadata": {},
   "outputs": [],
   "source": [
    "import pandas as pd\n",
    "import matplotlib.pyplot as plt\n",
    "import os\n",
    "import numpy as np"
   ]
  },
  {
   "cell_type": "code",
   "execution_count": null,
   "metadata": {},
   "outputs": [],
   "source": [
    "folder_path = '../data'\n",
    "datasets = [name for name in os.listdir(folder_path) if os.path.isdir(os.path.join(folder_path, name))]"
   ]
  },
  {
   "cell_type": "code",
   "execution_count": null,
   "metadata": {},
   "outputs": [],
   "source": [
    "def plot(dataset, figsize):\n",
    "    # Define the desired order of methods with 'rf' renamed to 'mmif'\n",
    "    desired_order = ['constant', 'knn', 'linear', 'mmit', 'mmif', 'aft_xgb', 'mlp']\n",
    "\n",
    "    datasize = pd.read_csv(f'../data/{dataset}/targets.csv').shape[0]\n",
    "    n_features = pd.read_csv(f'../data/{dataset}/features.csv').shape[1]\n",
    "\n",
    "    # Load the CSV file\n",
    "    df = pd.read_csv(f'../loss_csvs/{dataset}.csv')\n",
    "\n",
    "    # Replace 'rf' with 'mmif' in the 'method' column\n",
    "    df['method'] = df['method'].replace({'rf': 'mmif', 'aft_xgboost_original': 'aft_xgb'})\n",
    "\n",
    "    # Filter the dataframe based on the desired order of methods\n",
    "    df = df[df['method'].isin(desired_order)]\n",
    "\n",
    "    # Drop rows with NaN values\n",
    "    df = df.dropna()\n",
    "\n",
    "    # Get log of loss\n",
    "    df['loss'] = np.log10(df['loss'] + 1e-10)\n",
    "\n",
    "    # Filter methods and ensure the desired order\n",
    "    df['method'] = pd.Categorical(df['method'], categories=desired_order, ordered=True)\n",
    "    df = df.sort_values('method')\n",
    "\n",
    "    # Create a figure with one subplot (mean ± SD plot only)\n",
    "    fig, ax2 = plt.subplots(figsize=figsize)\n",
    "\n",
    "    means = []\n",
    "    sds = []\n",
    "    for method in desired_order:\n",
    "        method_losses = df[df['method'] == method]['loss']\n",
    "        means.append(method_losses.mean())\n",
    "        sds.append(method_losses.std())\n",
    "\n",
    "    # Plot mean ± SD\n",
    "    y_pos = np.arange(len(desired_order))\n",
    "    ax2.errorbar(means, y_pos, xerr=sds, fmt='o', color='black', ecolor='gray', capsize=5, label='Mean ± SD')\n",
    "    ax2.set_yticks(np.arange(len(desired_order)))  # Ensure y-ticks match the method indices\n",
    "    ax2.set_yticklabels(desired_order)  # Set y-ticks to be the method names\n",
    "    ax2.set_xlabel('log_test_squared_hinge_loss')\n",
    "    ax2.set_title(f\"{dataset} ({datasize} instances -- {n_features} features)\")\n",
    "    ax2.set_ylim(-0.5, len(desired_order) - 0.5)\n",
    "    ax2.grid(True)\n",
    "\n",
    "    # Save the plot as a PNG or JPG in the 'pngs' folder\n",
    "    if not os.path.exists('pngs'):\n",
    "        os.makedirs('pngs')  # Create the 'pngs' folder if it doesn't exist\n",
    "\n",
    "    # Save as PNG or JPG with tight bounding box and high DPI for better quality\n",
    "    plt.savefig(f'pngs/{dataset}_plot.png', dpi=300, bbox_inches='tight')  # or change to .jpg if preferred\n",
    "\n",
    "    # Adjust layout to prevent clipping\n",
    "    plt.tight_layout()\n",
    "\n",
    "    # Show the plot (optional)\n",
    "    plt.show()"
   ]
  },
  {
   "cell_type": "code",
   "execution_count": null,
   "metadata": {},
   "outputs": [],
   "source": [
    "for dataset in ['simulated.linear', 'simulated.abs', 'simulated.sin']:\n",
    "    plot(dataset, (4,3))"
   ]
  }
 ],
 "metadata": {
  "kernelspec": {
   "display_name": "Python 3",
   "language": "python",
   "name": "python3"
  },
  "language_info": {
   "codemirror_mode": {
    "name": "ipython",
    "version": 3
   },
   "file_extension": ".py",
   "mimetype": "text/x-python",
   "name": "python",
   "nbconvert_exporter": "python",
   "pygments_lexer": "ipython3",
   "version": "3.11.9"
  }
 },
 "nbformat": 4,
 "nbformat_minor": 2
}
