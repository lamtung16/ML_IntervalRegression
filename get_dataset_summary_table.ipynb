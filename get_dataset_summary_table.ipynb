{
 "cells": [
  {
   "cell_type": "code",
   "execution_count": 1,
   "id": "bfac0fc6",
   "metadata": {},
   "outputs": [],
   "source": [
    "import os\n",
    "import pandas as pd"
   ]
  },
  {
   "cell_type": "code",
   "execution_count": 2,
   "id": "e7a4c00c",
   "metadata": {},
   "outputs": [
    {
     "name": "stdout",
     "output_type": "stream",
     "text": [
      "          dataset name  number of features  number of instances note\n",
      "0               auto93                  62                   82     \n",
      "1            autohorse                  59                  159     \n",
      "2              autompg                  25                  392     \n",
      "3            autoprice                  15                  159     \n",
      "4             baskball                   4                   96     \n",
      "5              bodyfat                  14                  252     \n",
      "6          breasttumor                  40                  286     \n",
      "7          cholesterol                  26                  299     \n",
      "8            cleveland                  26                  299     \n",
      "9                cloud                  10                  108     \n",
      "10                 cpu                  36                  209     \n",
      "11          echomonths                  13                  106     \n",
      "12             elusage                  13                   55     \n",
      "13           fishcatch                  15                  158     \n",
      "14            fruitfly                   8                  125     \n",
      "15             housing                  14                  506     \n",
      "16              lowbwt                  23                  189     \n",
      "17  lymphoma.mkatayama                 258                   41     \n",
      "18        lymphoma.tdh                 258                   23     \n",
      "19         machine.cpu                   6                  209     \n",
      "20            mbagrade                   3                   61     \n",
      "21                meta                  54                  264     \n",
      "22                 pbc                  29                  276     \n",
      "23             pharynx                 218                  195     \n",
      "24           pollution                  15                   60     \n",
      "25            pwlinear                  10                  200     \n",
      "26               pyrim                  27                   74     \n",
      "27             sensory                  36                  576     \n",
      "28               servo                  19                  167     \n",
      "29       simulated.abs                  20                  200     \n",
      "30    simulated.linear                  20                  200     \n",
      "31       simulated.sin                  20                  200     \n",
      "32               sleep                   7                   51     \n",
      "33               stock                   9                  950     \n",
      "34              strike                  23                  625     \n",
      "35           triazines                  60                  186     \n",
      "36             veteran                  13                  137     \n",
      "37            vineyard                   3                   52     \n",
      "38           wisconsin                  32                  194     \n"
     ]
    }
   ],
   "source": [
    "base_dir = \"data\"\n",
    "rows = []\n",
    "\n",
    "for dataset_name in os.listdir(base_dir):\n",
    "    dataset_path = os.path.join(base_dir, dataset_name, \"features.csv\")\n",
    "    \n",
    "    if os.path.isfile(dataset_path):\n",
    "        df = pd.read_csv(dataset_path)\n",
    "        rows.append({\n",
    "            \"dataset name\": dataset_name,\n",
    "            \"number of features\": df.shape[1],\n",
    "            \"number of instances\": df.shape[0],\n",
    "            \"note\": \"\"  # leave empty for manual editing\n",
    "        })\n",
    "\n",
    "summary_df = pd.DataFrame(rows)\n",
    "\n",
    "# Show the result\n",
    "print(summary_df)"
   ]
  }
 ],
 "metadata": {
  "kernelspec": {
   "display_name": "Python 3",
   "language": "python",
   "name": "python3"
  },
  "language_info": {
   "codemirror_mode": {
    "name": "ipython",
    "version": 3
   },
   "file_extension": ".py",
   "mimetype": "text/x-python",
   "name": "python",
   "nbconvert_exporter": "python",
   "pygments_lexer": "ipython3",
   "version": "3.11.9"
  }
 },
 "nbformat": 4,
 "nbformat_minor": 5
}
