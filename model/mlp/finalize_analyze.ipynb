{
 "cells": [
  {
   "cell_type": "code",
   "execution_count": 1,
   "metadata": {},
   "outputs": [],
   "source": [
    "import os\n",
    "import pandas as pd\n",
    "import shutil\n",
    "import numpy as np"
   ]
  },
  {
   "cell_type": "code",
   "execution_count": 2,
   "metadata": {},
   "outputs": [],
   "source": [
    "# garther all stats in one df, in folder stats/{dataset} has all csv, each one has 6 items: dataset, n_layer, n_neuron, fold, val_loss, time\n",
    "def gather_stats(dataset, fold):\n",
    "    # Define the path to the folder containing the CSV files\n",
    "    stats_path = f\"stats/{dataset}\"\n",
    "\n",
    "    # Initialize an empty list to hold DataFrames\n",
    "    all_data = []\n",
    "\n",
    "    # Check if the directory exists\n",
    "    if not os.path.exists(stats_path):\n",
    "        raise FileNotFoundError(f\"The folder '{stats_path}' does not exist.\")\n",
    "\n",
    "    # Iterate over all files in the directory\n",
    "    for file_name in os.listdir(stats_path):\n",
    "        file_path = os.path.join(stats_path, file_name)\n",
    "\n",
    "        # Check if the file is a CSV file and ends with fold{fold}\n",
    "        if os.path.isfile(file_path) and file_name.endswith(f\"fold{fold}.csv\"):\n",
    "            # Read the CSV file without headers and assign column names\n",
    "            df = pd.read_csv(file_path, header=None, names=[\"dataset\", \"n_layer\", \"n_neuron\", \"fold\", \"val_loss\", \"time\"])\n",
    "\n",
    "            # Append the DataFrame to the list\n",
    "            all_data.append(df)\n",
    "\n",
    "    # Combine all DataFrames into a single DataFrame\n",
    "    if all_data:\n",
    "        combined_df = pd.concat(all_data, ignore_index=True)\n",
    "        return combined_df\n",
    "    else:\n",
    "        raise ValueError(f\"No valid CSV files ending with 'fold{fold}.csv' found in '{stats_path}'.\")\n",
    "\n",
    "def copy_and_rename_file(source_path, destination_folder, new_name):\n",
    "    # Check if the source file exists\n",
    "    if not os.path.isfile(source_path):\n",
    "        raise FileNotFoundError(f\"The file '{source_path}' does not exist.\")\n",
    "    \n",
    "    # Check if the destination folder exists, create it if not\n",
    "    if not os.path.exists(destination_folder):\n",
    "        os.makedirs(destination_folder)\n",
    "\n",
    "    # Create the full path for the renamed file\n",
    "    new_path = os.path.join(destination_folder, new_name)\n",
    "\n",
    "    # Copy and rename the file\n",
    "    shutil.copy(source_path, new_path)"
   ]
  },
  {
   "cell_type": "code",
   "execution_count": 3,
   "metadata": {},
   "outputs": [],
   "source": [
    "folder_path = '../../data'\n",
    "datasets = [name for name in os.listdir(folder_path) if os.path.isdir(os.path.join(folder_path, name))]"
   ]
  },
  {
   "cell_type": "code",
   "execution_count": 4,
   "metadata": {},
   "outputs": [],
   "source": [
    "# Example usage\n",
    "for dataset in datasets:\n",
    "    folds_df = pd.read_csv(f'../../data/{dataset}/folds.csv')\n",
    "    for fold in sorted(np.unique(folds_df['fold'])):\n",
    "        stats_df = gather_stats(dataset, fold)\n",
    "        n_layer, n_neuron = stats_df.sort_values('val_loss').iloc[0][['n_layer', 'n_neuron']].values\n",
    "\n",
    "        copy_and_rename_file(f'predictions_cv/{dataset}/{n_layer}layers_{n_neuron}neurons_fold{fold}.csv', 'predictions', f'{dataset}.{fold}.csv')\n",
    "        # print(dataset, fold, n_layer, n_neuron)"
   ]
  }
 ],
 "metadata": {
  "kernelspec": {
   "display_name": "Python 3",
   "language": "python",
   "name": "python3"
  },
  "language_info": {
   "codemirror_mode": {
    "name": "ipython",
    "version": 3
   },
   "file_extension": ".py",
   "mimetype": "text/x-python",
   "name": "python",
   "nbconvert_exporter": "python",
   "pygments_lexer": "ipython3",
   "version": "3.11.9"
  }
 },
 "nbformat": 4,
 "nbformat_minor": 2
}
