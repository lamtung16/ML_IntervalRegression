{
 "cells": [
  {
   "cell_type": "code",
   "execution_count": 1,
   "metadata": {},
   "outputs": [],
   "source": [
    "import numpy as np\n",
    "import pandas as pd\n",
    "import os"
   ]
  },
  {
   "cell_type": "code",
   "execution_count": 2,
   "metadata": {},
   "outputs": [],
   "source": [
    "# updates intervals based on margin\n",
    "def adjust_intervals(intervals, margin):\n",
    "    adjusted_intervals = intervals + np.array([margin, -margin])\n",
    "    mask = adjusted_intervals[:, 1] < adjusted_intervals[:, 0]\n",
    "    adjusted_intervals[mask] = adjusted_intervals[mask][:, ::-1]\n",
    "    return adjusted_intervals\n",
    "\n",
    "# get best mu for each\n",
    "def getting_best_mu(intervals, margin=0):\n",
    "    intervals = adjust_intervals(intervals, margin)\n",
    "    endpoints = np.unique(intervals[np.isfinite(intervals)])\n",
    "    y_min, y_max = intervals[:, 0], intervals[:, 1]\n",
    "    lower_loss = np.maximum(0, y_min[:, None] - endpoints)**2  # Loss when mu is below y_min\n",
    "    upper_loss = np.maximum(0, endpoints - y_max[:, None])**2  # Loss when mu is above y_max\n",
    "    losses = np.sum(lower_loss + upper_loss, axis=0)\n",
    "    min_loss_idx = np.argmin(losses)\n",
    "    mu = endpoints[min_loss_idx]\n",
    "    return mu"
   ]
  },
  {
   "cell_type": "code",
   "execution_count": 3,
   "metadata": {},
   "outputs": [],
   "source": [
    "folder_path = '../../data'\n",
    "datasets = [name for name in os.listdir(folder_path) if os.path.isdir(os.path.join(folder_path, name))]"
   ]
  },
  {
   "cell_type": "code",
   "execution_count": 4,
   "metadata": {},
   "outputs": [],
   "source": [
    "for dataset in datasets:\n",
    "    # Load data\n",
    "    folds_df    = pd.read_csv(f'../../data/{dataset}/folds.csv')\n",
    "    features_df = pd.read_csv(f'../../data/{dataset}/features.csv')\n",
    "    target_df   = pd.read_csv(f'../../data/{dataset}/targets.csv')\n",
    "\n",
    "    for test_fold in sorted(np.unique(folds_df['fold'])):\n",
    "\n",
    "        # Split data into training and test sets\n",
    "        train_indices = folds_df[folds_df['fold'] != test_fold].index\n",
    "        test_indices  = folds_df[folds_df['fold'] == test_fold].index\n",
    "\n",
    "        # Filter the DataFrames by index\n",
    "        X_train = features_df.loc[train_indices].to_numpy()\n",
    "        X_test  = features_df.loc[test_indices].to_numpy()\n",
    "        y_train = target_df.loc[train_indices].to_numpy()\n",
    "\n",
    "        target_mat_pred = [getting_best_mu(y_train)]*np.ones(X_test.shape[0])\n",
    "\n",
    "        # save to csv\n",
    "        prediction = pd.DataFrame({'pred': target_mat_pred})\n",
    "        prediction.to_csv(f\"predictions/{dataset}.{test_fold}.csv\", index=False)"
   ]
  }
 ],
 "metadata": {
  "kernelspec": {
   "display_name": "Python 3",
   "language": "python",
   "name": "python3"
  },
  "language_info": {
   "codemirror_mode": {
    "name": "ipython",
    "version": 3
   },
   "file_extension": ".py",
   "mimetype": "text/x-python",
   "name": "python",
   "nbconvert_exporter": "python",
   "pygments_lexer": "ipython3",
   "version": "3.11.9"
  }
 },
 "nbformat": 4,
 "nbformat_minor": 2
}
