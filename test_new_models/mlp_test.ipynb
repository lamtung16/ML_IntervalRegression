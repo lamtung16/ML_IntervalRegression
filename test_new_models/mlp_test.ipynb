{
 "cells": [
  {
   "cell_type": "code",
   "execution_count": 1,
   "metadata": {},
   "outputs": [],
   "source": [
    "import pandas as pd\n",
    "import torch\n",
    "import torch.nn as nn\n",
    "import numpy as np\n",
    "import random\n",
    "import os\n",
    "from sklearn.preprocessing import MinMaxScaler\n",
    "import sys\n",
    "import matplotlib.pyplot as plt"
   ]
  },
  {
   "cell_type": "code",
   "execution_count": 2,
   "metadata": {},
   "outputs": [],
   "source": [
    "# Hinged Square Loss\n",
    "class SquaredHingeLoss(nn.Module):\n",
    "    def __init__(self, margin=0):\n",
    "        super(SquaredHingeLoss, self).__init__()\n",
    "        self.margin = margin\n",
    "\n",
    "    def forward(self, predicted, y):\n",
    "        low, high = y[:, 0:1], y[:, 1:2]\n",
    "        loss_low = torch.relu(low - predicted + self.margin)\n",
    "        loss_high = torch.relu(predicted - high + self.margin)\n",
    "        loss = loss_low + loss_high\n",
    "        return torch.mean(torch.square(loss))"
   ]
  },
  {
   "cell_type": "code",
   "execution_count": 3,
   "metadata": {},
   "outputs": [],
   "source": [
    "# MLP models\n",
    "class MLP(nn.Module):\n",
    "    def __init__(self, input_size, layer_sizes):\n",
    "        super(MLP, self).__init__()\n",
    "        layers = []\n",
    "        prev_size = input_size\n",
    "\n",
    "        # Create hidden layers\n",
    "        for size in layer_sizes:\n",
    "            layers.append(nn.Linear(prev_size, size))\n",
    "            layers.append(nn.Sigmoid())\n",
    "            prev_size = size\n",
    "\n",
    "        # Add output layer\n",
    "        layers.append(nn.Linear(prev_size, 1))  # Output layer\n",
    "\n",
    "        self.model = nn.Sequential(*layers)  # Combine layers into a sequential model\n",
    "\n",
    "    def forward(self, x):\n",
    "        return self.model(x)"
   ]
  },
  {
   "cell_type": "code",
   "execution_count": 4,
   "metadata": {},
   "outputs": [],
   "source": [
    "dataset = 'simulated.abs'"
   ]
  },
  {
   "cell_type": "code",
   "execution_count": 5,
   "metadata": {},
   "outputs": [],
   "source": [
    "target_df = pd.read_csv(f'../data/{dataset}/targets.csv')\n",
    "features_df = pd.read_csv(f'../data/{dataset}/features.csv')"
   ]
  },
  {
   "cell_type": "code",
   "execution_count": 6,
   "metadata": {},
   "outputs": [],
   "source": [
    "# split data into training and testing\n",
    "X = features_df.values[:,0].reshape(-1, 1)\n",
    "y = target_df.values\n",
    "\n",
    "# normalize the data\n",
    "scaler = MinMaxScaler()\n",
    "X = scaler.fit_transform(X)\n",
    "\n",
    "# split 70% training and 30% testing\n",
    "train_size = int(0.7 * len(X))\n",
    "X_train = X[:train_size]\n",
    "y_train = y[:train_size]\n",
    "X_test = X[train_size:]\n",
    "y_test = y[train_size:]\n",
    "\n",
    "# convert them to tensors\n",
    "X_train = torch.tensor(X_train, dtype=torch.float32)\n",
    "y_train = torch.tensor(y_train, dtype=torch.float32)\n",
    "X_test = torch.tensor(X_test, dtype=torch.float32)\n",
    "y_test = torch.tensor(y_test, dtype=torch.float32)"
   ]
  },
  {
   "cell_type": "code",
   "execution_count": 7,
   "metadata": {},
   "outputs": [
    {
     "name": "stdout",
     "output_type": "stream",
     "text": [
      "Epoch 1: Loss = 4.075530529022217\n",
      "Epoch 2001: Loss = 1.0504249334335327\n",
      "Epoch 4001: Loss = 1.0433164834976196\n",
      "Epoch 6001: Loss = 1.0430798530578613\n",
      "Epoch 8001: Loss = 0.9715443253517151\n",
      "Epoch 10001: Loss = 0.3014191687107086\n",
      "Epoch 12001: Loss = 0.01916629634797573\n",
      "Epoch 14001: Loss = 0.0018178271129727364\n",
      "Epoch 16001: Loss = 0.0004599819367285818\n",
      "Epoch 18001: Loss = 0.0003840550489258021\n"
     ]
    }
   ],
   "source": [
    "model = MLP(input_size=X_train.shape[1], layer_sizes=[4])\n",
    "optimizer = torch.optim.Adam(model.parameters())\n",
    "criterion = SquaredHingeLoss()\n",
    "\n",
    "# Early stopping parameters\n",
    "patience = 100  # Number of epochs to wait for an improvement in loss before stopping\n",
    "delta = 1e-8  # Minimum change in loss for it to be considered an improvement\n",
    "best_loss = float('inf')  # Initialize the best loss to a very large number\n",
    "epochs_without_improvement = 0  # Counter for epochs without improvement\n",
    "\n",
    "for epoch in range(20000):\n",
    "    # Training step\n",
    "    model.train()\n",
    "    optimizer.zero_grad()\n",
    "    outputs = model(X_train)\n",
    "    loss = criterion(outputs, y_train)\n",
    "    loss.backward()\n",
    "    optimizer.step()\n",
    "\n",
    "    # Check if the loss improvement is greater than the delta\n",
    "    if best_loss - loss.item() > delta:\n",
    "        best_loss = loss.item()\n",
    "        epochs_without_improvement = 0  # Reset counter if loss improves\n",
    "    else:\n",
    "        epochs_without_improvement += 1\n",
    "    if epoch % 2000 == 0:\n",
    "        print(f\"Epoch {epoch+1}: Loss = {loss.item()}\")\n",
    "    # Early stopping condition: stop if no significant improvement for `patience` epochs\n",
    "    if epochs_without_improvement >= patience:\n",
    "        print(f\"Early stopping at epoch {epoch+1}\")\n",
    "        break"
   ]
  },
  {
   "cell_type": "code",
   "execution_count": 8,
   "metadata": {},
   "outputs": [],
   "source": [
    "# get prediction from X_test\n",
    "model.eval()\n",
    "with torch.no_grad():\n",
    "    y_pred = model(X_test)"
   ]
  },
  {
   "cell_type": "code",
   "execution_count": 9,
   "metadata": {},
   "outputs": [
    {
     "data": {
      "text/plain": [
       "<matplotlib.collections.PathCollection at 0x20b17018210>"
      ]
     },
     "execution_count": 9,
     "metadata": {},
     "output_type": "execute_result"
    },
    {
     "data": {
      "image/png": "[encoded data removed]",
      "text/plain": [
       "<Figure size 640x480 with 1 Axes>"
      ]
     },
     "metadata": {},
     "output_type": "display_data"
    }
   ],
   "source": [
    "# using matplotlib to scatter plot y_pred and X_test\n",
    "plt.scatter(X_train[:,0], y_train[:,0])\n",
    "plt.scatter(X_train[:,0], y_train[:,1])"
   ]
  },
  {
   "cell_type": "code",
   "execution_count": 10,
   "metadata": {},
   "outputs": [
    {
     "data": {
      "text/plain": [
       "<matplotlib.collections.PathCollection at 0x20b170c1210>"
      ]
     },
     "execution_count": 10,
     "metadata": {},
     "output_type": "execute_result"
    },
    {
     "data": {
      "image/png": "[encoded data removed]",
      "text/plain": [
       "<Figure size 640x480 with 1 Axes>"
      ]
     },
     "metadata": {},
     "output_type": "display_data"
    }
   ],
   "source": [
    "plt.scatter(X_test[:,0], y_pred)"
   ]
  },
  {
   "cell_type": "code",
   "execution_count": 11,
   "metadata": {},
   "outputs": [
    {
     "name": "stdout",
     "output_type": "stream",
     "text": [
      "Test Loss: 0.0020137864630669355\n"
     ]
    }
   ],
   "source": [
    "# print the test loss\n",
    "loss = criterion(y_pred, y_test)\n",
    "print(f\"Test Loss: {loss.item()}\")"
   ]
  }
 ],
 "metadata": {
  "kernelspec": {
   "display_name": "Python 3",
   "language": "python",
   "name": "python3"
  },
  "language_info": {
   "codemirror_mode": {
    "name": "ipython",
    "version": 3
   },
   "file_extension": ".py",
   "mimetype": "text/x-python",
   "name": "python",
   "nbconvert_exporter": "python",
   "pygments_lexer": "ipython3",
   "version": "3.11.9"
  }
 },
 "nbformat": 4,
 "nbformat_minor": 2
}
