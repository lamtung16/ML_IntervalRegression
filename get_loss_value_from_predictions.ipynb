{
 "cells": [
  {
   "cell_type": "code",
   "execution_count": 9,
   "metadata": {},
   "outputs": [],
   "source": [
    "import os\n",
    "import numpy as np\n",
    "import pandas as pd\n",
    "import csv"
   ]
  },
  {
   "cell_type": "code",
   "execution_count": 10,
   "metadata": {},
   "outputs": [],
   "source": [
    "model = 'mmit'"
   ]
  },
  {
   "cell_type": "code",
   "execution_count": 11,
   "metadata": {},
   "outputs": [],
   "source": [
    "prediction_folder_path = 'model/' + model + '/predictions/'"
   ]
  },
  {
   "cell_type": "code",
   "execution_count": 12,
   "metadata": {},
   "outputs": [],
   "source": [
    "folder_path = 'data'\n",
    "datasets = [name for name in os.listdir(folder_path) if os.path.isdir(os.path.join(folder_path, name))]"
   ]
  },
  {
   "cell_type": "code",
   "execution_count": 13,
   "metadata": {},
   "outputs": [],
   "source": [
    "# Hinged Square Loss\n",
    "def squared_hinge_loss(predicted, y, margin=1):\n",
    "    low, high = y[:, 0], y[:, 1]\n",
    "    loss_low = np.maximum(low - predicted + margin, 0)\n",
    "    loss_high = np.maximum(predicted - high + margin, 0)\n",
    "    loss = loss_low + loss_high\n",
    "    return np.mean(np.square(loss))"
   ]
  },
  {
   "cell_type": "code",
   "execution_count": 14,
   "metadata": {},
   "outputs": [],
   "source": [
    "# add row to csv\n",
    "def add_row_to_csv(path, head, row):\n",
    "    file_exists = os.path.exists(path)              # Check if the file exists\n",
    "    with open(path, 'a', newline='') as csvfile:    # Open the CSV file in append mode\n",
    "        writer = csv.writer(csvfile)\n",
    "        if not file_exists:                         # If the file doesn't exist, write the header\n",
    "            writer.writerow(head)\n",
    "        writer.writerow(row)                        # Write the row"
   ]
  },
  {
   "cell_type": "code",
   "execution_count": 15,
   "metadata": {},
   "outputs": [],
   "source": [
    "def get_loss(dataset, test_fold):\n",
    "    # Get target\n",
    "    fold_df = pd.read_csv('data/' + dataset + '/folds.csv')\n",
    "    target_df = pd.read_csv('data/' + dataset + '/targets.csv')\n",
    "    target_fold_df = pd.concat([target_df, fold_df], axis=1)\n",
    "    true_value = target_fold_df[target_fold_df['fold'] == test_fold][['min.log.penalty', 'max.log.penalty']].to_numpy()\n",
    "\n",
    "    # Get prediction\n",
    "    pred_df = pd.read_csv(prediction_folder_path + dataset + '.' + str(test_fold) + '.csv')\n",
    "    pred = pred_df.to_numpy()\n",
    "\n",
    "    # Compute loss\n",
    "    return squared_hinge_loss(pred, true_value)"
   ]
  },
  {
   "cell_type": "code",
   "execution_count": 16,
   "metadata": {},
   "outputs": [],
   "source": [
    "for dataset in datasets:\n",
    "    # get number of folds\n",
    "    fold_df = pd.read_csv('data/' + dataset + '/folds.csv')\n",
    "    n_folds = np.unique(fold_df['fold']).__len__()\n",
    "\n",
    "    for test_fold in range(1, n_folds + 1):\n",
    "        loss = get_loss(dataset, test_fold)\n",
    "        add_row_to_csv('loss_csvs/' + dataset + '.csv', \n",
    "                        ['method', 'fold', 'loss'],\n",
    "                        [model, test_fold, loss])"
   ]
  }
 ],
 "metadata": {
  "kernelspec": {
   "display_name": "Python 3",
   "language": "python",
   "name": "python3"
  },
  "language_info": {
   "codemirror_mode": {
    "name": "ipython",
    "version": 3
   },
   "file_extension": ".py",
   "mimetype": "text/x-python",
   "name": "python",
   "nbconvert_exporter": "python",
   "pygments_lexer": "ipython3",
   "version": "3.10.11"
  }
 },
 "nbformat": 4,
 "nbformat_minor": 2
}
